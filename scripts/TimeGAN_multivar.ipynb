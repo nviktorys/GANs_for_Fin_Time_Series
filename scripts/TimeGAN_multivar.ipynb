{
 "cells": [
  {
   "cell_type": "markdown",
   "metadata": {
    "id": "9ysSxc29vr-P"
   },
   "source": [
    "# Set-up"
   ]
  },
  {
   "cell_type": "code",
   "execution_count": 3,
   "metadata": {
    "colab": {
     "base_uri": "https://localhost:8080/"
    },
    "executionInfo": {
     "elapsed": 4909,
     "status": "ok",
     "timestamp": 1629666246261,
     "user": {
      "displayName": "V",
      "photoUrl": "",
      "userId": "05510664894866105539"
     },
     "user_tz": -60
    },
    "id": "Djum7-txvbBZ",
    "outputId": "c180a346-2322-440d-8c80-4ae309bf8c48"
   },
   "outputs": [
    {
     "name": "stdout",
     "output_type": "stream",
     "text": [
      "Requirement already satisfied: pickle5 in /usr/local/lib/python3.7/dist-packages (0.0.11)\n"
     ]
    }
   ],
   "source": [
    "import tensorflow as tf\n",
    "device_name = tf.test.gpu_device_name()\n",
    "\n",
    "from pathlib import Path\n",
    "from tqdm import tqdm\n",
    "import gc\n",
    "\n",
    "import os\n",
    "import pandas as  pd\n",
    "import numpy as np\n",
    "from math import floor\n",
    "from scipy.linalg import sqrtm\n",
    "!pip3 install pickle5\n",
    "import pickle5\n",
    "import matplotlib.pyplot as plt\n",
    "import seaborn as sns\n",
    "from sklearn.preprocessing import LabelEncoder, StandardScaler, MinMaxScaler, OneHotEncoder\n",
    "from sklearn.decomposition import PCA\n",
    "from sklearn.manifold import TSNE\n",
    "from sklearn.model_selection import train_test_split\n",
    "import warnings\n",
    "warnings.filterwarnings(\"ignore\")\n",
    "from sklearn.metrics import mean_squared_error\n",
    "from tensorflow import keras\n",
    "from tensorflow.keras.models import Sequential, Model\n",
    "from tensorflow.keras.utils import plot_model\n",
    "from tensorflow.keras.layers import LeakyReLU, Softmax\n",
    "from tensorflow.keras.layers import Conv2D, MaxPooling2D, SeparableConv2D\n",
    "from tensorflow.keras.layers import Dense, Flatten, Dropout, Reshape, Activation, Embedding, Input\n",
    "from tensorflow.keras.layers import BatchNormalization, TimeDistributed, RepeatVector, concatenate\n",
    "from tensorflow.keras.layers import LSTM, Lambda, Concatenate\n",
    "from tensorflow.keras.losses import BinaryCrossentropy, MeanSquaredError, MeanAbsoluteError\n",
    "from tensorflow.keras.optimizers import Adam\n",
    "from tensorflow.keras.callbacks import TensorBoard\n",
    "from keras.regularizers import l2\n",
    "#from keras.preprocessing.text import one_hot\n",
    "import random\n",
    "random.seed(2345)"
   ]
  },
  {
   "cell_type": "code",
   "execution_count": null,
   "metadata": {},
   "outputs": [],
   "source": [
    "os.getcwd()\n",
    "os.chdir('.\\\\Data')\n",
    "os.getcwd()"
   ]
  },
  {
   "cell_type": "code",
   "execution_count": 4,
   "metadata": {
    "executionInfo": {
     "elapsed": 9,
     "status": "ok",
     "timestamp": 1629666246266,
     "user": {
      "displayName": "V",
      "photoUrl": "",
      "userId": "05510664894866105539"
     },
     "user_tz": -60
    },
    "id": "9A9HcjKaBe6n"
   },
   "outputs": [],
   "source": [
    "results_path = Path('./model/Gan1')\n",
    "log_dir = results_path\n",
    "# Set up logger\n",
    "writer = tf.summary.create_file_writer(log_dir.as_posix())"
   ]
  },
  {
   "cell_type": "markdown",
   "metadata": {
    "id": "MineC4jxv-8f"
   },
   "source": [
    "# Load Data"
   ]
  },
  {
   "cell_type": "code",
   "execution_count": 5,
   "metadata": {
    "executionInfo": {
     "elapsed": 8,
     "status": "ok",
     "timestamp": 1629666246266,
     "user": {
      "displayName": "V",
      "photoUrl": "",
      "userId": "05510664894866105539"
     },
     "user_tz": -60
    },
    "id": "gliY1XNhwBba"
   },
   "outputs": [],
   "source": [
    "def extract_data(df_name='dataf_interp2', DV='lCloseAvg', drop=['name','Office']):\n",
    "    # Load data\n",
    "    data = []\n",
    "    with open('./'+df_name+'.pkl','rb') as file:\n",
    "        data = pickle5.load(file)\n",
    "    data = pd.DataFrame(data)\n",
    "    data = data.reset_index(drop=True)\n",
    "    \n",
    "    global dv\n",
    "    dv = [DV]\n",
    "    \n",
    "    # Plot DV\n",
    "    plt.scatter(data.loc[:,\"date\"],data.loc[:,dv])\n",
    "    plt.xlabel(\"Date\")\n",
    "    plt.ylabel(\"DV\")\n",
    "    plt.show()\n",
    "\n",
    "    names = data[[\"cik\",\"name\"]].drop_duplicates(ignore_index=True)\n",
    "    names = names.set_index(['cik'])\n",
    "    \n",
    "    # Drop columns\n",
    "    if len(drop)>0:\n",
    "        data = data.drop(drop,1)\n",
    "\n",
    "    # Conver categorical variables\n",
    "    \n",
    "    # Sectors\n",
    "    sectors = data['sic'].unique()\n",
    "    one_hot = pd.get_dummies(data['sic'])\n",
    "    sic = one_hot.columns.values # create helper array\n",
    "    data = data.drop('sic',axis = 1) # drop categorical column\n",
    "    data = data.join(one_hot) # join the encoder\n",
    "    \n",
    "    # Countries - keep only most frequent segments and group together the rest\n",
    "    # \"US\", \"CA\", \"CN\"\n",
    "    countries_keep = [\"US\", \"CA\", \"CN\"]\n",
    "    for i in range(len(data)):\n",
    "        if data.loc[i,'countryba'] not in countries_keep:\n",
    "            data.loc[i,['countryba']] = 'OT'\n",
    "    one_hot = pd.get_dummies(data['countryba'])\n",
    "    country = one_hot.columns.values # create helper array\n",
    "    data = data.drop('countryba',axis = 1) # drop categorical column\n",
    "    data = data.join(one_hot) # join the encoder\n",
    "       \n",
    "    # Create helper arrays\n",
    "    id = ['cik', 'date']\n",
    "    companies = data['cik'].unique()\n",
    "    character = list(sic) + list(country)\n",
    "    macroec = ['gdp','cpi','eir','unemployment','disp_inc','oil','ici']\n",
    "    ratios = ['CurrentRatio', 'CashRatio', 'DebtRatio', 'DebtToEquity',\n",
    "              'ReturnOnAssets', 'ReturnOnEquity']\n",
    "    ind_vals = ['INTERESTPAID','PROCEEDSFROMISSUANCEOFCOMMONSTOCK',\n",
    "                 'SHAREBASEDCOMPENSATION',\n",
    "                 'STOCKISSUEDDURINGPERIODVALUENEWISSUES']\n",
    "    all_var = [var for var in data.columns if var not in id+dv]\n",
    "    all_var1 = [var for var in data.columns if var not in id+dv+macroec]\n",
    "    numeric1 = [var for var in data.columns if var not in id+dv+character+macroec+ind_vals] # variables to normalize\n",
    "    numeric2 = [var for var in data.columns if var not in id+dv+character+macroec+ind_vals+ratios] # variables to use in PCA (since ratios were derived from other variables they can be excluded)\n",
    "    fin_var = [var for var in data.columns if var not in id+dv+ratios+macroec+character]\n",
    "   \n",
    "    helper = {'id': id, 'companies': companies, 'sectors': sectors, 'character': character,\n",
    "              'macroec': macroec, 'ratios': ratios, 'ind_vals': ind_vals,\n",
    "              'all_var': all_var, 'all_var1': all_var1, 'numeric1': numeric1,\n",
    "              'numeric2': numeric2, 'fin_var': fin_var, 'names': names}\n",
    "    # Convert all to float64\n",
    "    for var in numeric1:\n",
    "        data[var] = data[var].astype('float64')\n",
    "    \n",
    "    return data, helper\n"
   ]
  },
  {
   "cell_type": "markdown",
   "metadata": {
    "id": "-H8RVM0ZwHSE"
   },
   "source": [
    "# Prepare Data for Training"
   ]
  },
  {
   "cell_type": "code",
   "execution_count": 6,
   "metadata": {
    "executionInfo": {
     "elapsed": 8,
     "status": "ok",
     "timestamp": 1629666246266,
     "user": {
      "displayName": "V",
      "photoUrl": "",
      "userId": "05510664894866105539"
     },
     "user_tz": -60
    },
    "id": "4dNpwwYMpf7G"
   },
   "outputs": [],
   "source": [
    "def convert_timeseries(data, n_in=1, ts_out=1, dropnan=True):\n",
    "    appended_data = []\n",
    "#    n_vars = 1 if type(data) is list else data.shape[1]\n",
    "    for co in companies:\n",
    "        #covert timeseries data to t-n to t-1 form\n",
    "        #n defines how many previous value should be taken into consideration\n",
    "        df = data.loc[[co]]\n",
    "        cols, names = list(), list()\n",
    "        # input sequence (t-n, ... t-1)\n",
    "        for i in range(n_in, 0, -1):\n",
    "            cols.append(df.shift(i))\n",
    "            names += [j + '(t-%d)' %(i) for j in data.columns]\n",
    "        # forecast sequence (t, t+1, ... t+n)\n",
    "        for i in range(0, ts_out):\n",
    "            cols.append(df[dv].shift(-i))\n",
    "            if i == 0:\n",
    "                names += [('dv')]\n",
    "            else:\n",
    "                names += [('dv%d' % (i))]\n",
    "        # put it all together\n",
    "        agg = pd.concat(cols, axis=1)\n",
    "        agg.columns = names\n",
    "        # drop rows with NaN values\n",
    "        if dropnan:\n",
    "            agg.dropna(inplace=True)\n",
    "        appended_data.append(agg)\n",
    "    appended_data = pd.concat(appended_data)\n",
    "    return appended_data"
   ]
  },
  {
   "cell_type": "code",
   "execution_count": 7,
   "metadata": {
    "executionInfo": {
     "elapsed": 9,
     "status": "ok",
     "timestamp": 1629666246267,
     "user": {
      "displayName": "V",
      "photoUrl": "",
      "userId": "05510664894866105539"
     },
     "user_tz": -60
    },
    "id": "nbXj0cKKwGrR"
   },
   "outputs": [],
   "source": [
    "# Transform data into 3D format with timesteps, scale\n",
    "# Split on train/valid/test with retained order of observations\n",
    "###############################################\n",
    "def prepare_data_order(data, vars, val_mths=4, ts=1, dv_lag=1):\n",
    "    # Reset index to include Company&Date\n",
    "    data2 = data[id+vars].copy()\n",
    "    data2 = data2.sort_values(['cik','date']).reset_index(drop=True)\n",
    "    data2.index = pd.MultiIndex.from_arrays(data[id].values.T, names=['cik', 'date'])\n",
    "    data2.drop(id,axis=1,inplace=True)\n",
    "    \n",
    "    # Train/Test split\n",
    "    train_ind = []\n",
    "    valid_ind = []\n",
    "    test_ind = []\n",
    "    companies = data2.reset_index().cik.unique()\n",
    "    for co in companies:\n",
    "        df = data2.loc[[co]]\n",
    "        train_ind.append(df.index.tolist()[:df.shape[0]-2*val_mths])\n",
    "        valid_ind.append(df.index.tolist()[df.shape[0]-2*val_mths-ts:df.shape[0]-val_mths])\n",
    "        test_ind.append(df.index.tolist()[df.shape[0]-val_mths-ts:])\n",
    "    train = [item for sublist in train_ind for item in sublist]\n",
    "    valid = [item for sublist in valid_ind for item in sublist]\n",
    "    test = [item for sublist in test_ind for item in sublist]\n",
    "    \n",
    "    data_train1 = data2.loc[train,:]\n",
    "    data_valid1 = data2.loc[valid,:]\n",
    "    data_test1 = data2.loc[test,:]\n",
    "    \n",
    "     # Scale the data\n",
    "    scaler = MinMaxScaler()\n",
    "    scaler_dv = MinMaxScaler()\n",
    "    data_train2 = pd.DataFrame(scaler.fit_transform(data_train1),columns=data_train1.columns, index=data_train1.index)\n",
    "    scaler_dv.fit_transform(data_train1[dv])\n",
    "    data_valid2 = pd.DataFrame(scaler.transform(data_valid1),columns=data_valid1.columns, index=data_valid1.index)\n",
    "    data_test2 = pd.DataFrame(scaler.transform(data_test1),columns=data_test1.columns, index=data_test1.index)\n",
    "    scalers = [scaler,scaler_dv]\n",
    "    \n",
    "    # Add lags/timesteps\n",
    "    train_lag = convert_timeseries(data_train2, n_in=ts, ts_out=ts_out) \n",
    "    x_train = train_lag.values[:,:-ts_out]\n",
    "    y_train = train_lag.values[:,-ts_out:]\n",
    "\n",
    "    valid_lag = convert_timeseries(data_valid2, n_in=ts, ts_out=ts_out) \n",
    "    x_valid = valid_lag.values[:,:-ts_out]\n",
    "    y_valid = valid_lag.values[:,-ts_out:]\n",
    "    \n",
    "    test_lag = convert_timeseries(data_test2, n_in=ts, ts_out=ts_out) \n",
    "    x_test = test_lag.values[:,:-ts_out]\n",
    "    y_test = test_lag.values[:,-ts_out:]\n",
    "    \n",
    "    x_train = x_train.reshape((x_train.shape[0], ts, len(vars)))\n",
    "    x_valid = x_valid.reshape((x_valid.shape[0], ts, len(vars)))\n",
    "    x_test = x_test.reshape((x_test.shape[0], ts, len(vars)))\n",
    "\n",
    "    train_batch = train_lag.reset_index().groupby('cik')['date'].count()\n",
    "    valid_batch = valid_lag.reset_index().groupby('cik')['date'].count()\n",
    "    test_batch = test_lag.reset_index().groupby('cik')['date'].count()\n",
    "    batch_arrays = [train_batch, valid_batch, test_batch]\n",
    "    \n",
    "    print(\"Train: \", x_train.shape, len(y_train))\n",
    "    print(\"Valid: \", x_valid.shape, len(y_valid))\n",
    "    print(\"Test: \", x_test.shape, len(y_test))\n",
    "    \n",
    "    return data2, scalers, x_train, y_train, x_valid, y_valid, x_test, y_test, batch_arrays\n"
   ]
  },
  {
   "cell_type": "code",
   "execution_count": 8,
   "metadata": {
    "executionInfo": {
     "elapsed": 8,
     "status": "ok",
     "timestamp": 1629666246267,
     "user": {
      "displayName": "V",
      "photoUrl": "",
      "userId": "05510664894866105539"
     },
     "user_tz": -60
    },
    "id": "94UwQoutwMcM"
   },
   "outputs": [],
   "source": [
    "# Transform data into 3D format with timesteps, scale\n",
    "# Split on train/valid/test with shuffled observations\n",
    "###############################################\n",
    "def prepare_data_shuffle(data, vars, val_mths=4, ts=1, n_lag=1, dv_lag=1):\n",
    "    # Reset index to include Company&Date\n",
    "    data2 = data[id+vars].copy()\n",
    "    data2 = data2.sort_values(['cik','date']).reset_index(drop=True)\n",
    "    data2.index = pd.MultiIndex.from_arrays(data[id].values.T, names=['cik', 'date'])\n",
    "    data2.drop(id,axis=1,inplace=True)\n",
    "    \n",
    "    # Add lags/timesteps\n",
    "    data_ts = convert_timeseries(data2, n_in=max(ts,n_lag), ts_out=ts_out) \n",
    "\n",
    "    # Train/validate/test split\n",
    "    train = valid = test = []\n",
    "    train_ds = valid_ds = test_ds = pd.DataFrame()\n",
    "    for co in companies:\n",
    "        df = data_ts.loc[[co]]\n",
    "        #df = df.sample(frac = 1)\n",
    "        train, valid, test = np.split(df.sample(frac=1, random_state=42), \n",
    "                       [int(.6*len(df)), int(.8*len(df))])\n",
    "        train_ds = train_ds.append(train)\n",
    "        valid_ds = valid_ds.append(valid)\n",
    "        test_ds = test_ds.append(test)\n",
    "        \n",
    "    # Scale data\n",
    "    scaler = MinMaxScaler()\n",
    "    scaler_dv = MinMaxScaler()\n",
    "    train_ds2 = pd.DataFrame(scaler.fit_transform(train_ds),columns=train_ds.columns, index=train_ds.index)\n",
    "    scaler_dv.fit_transform(train_ds.iloc[:,-ts_out:])\n",
    "    valid_ds2 = pd.DataFrame(scaler.transform(valid_ds),columns=valid_ds.columns, index=valid_ds.index)\n",
    "    test_ds2 = pd.DataFrame(scaler.transform(test_ds),columns=test_ds.columns, index=test_ds.index)\n",
    "    scalers = [scaler,scaler_dv]\n",
    "    \n",
    "    # X/Y split\n",
    "    x_train = train_ds2.values[:,:-ts_out]\n",
    "    y_train = train_ds2.values[:,-ts_out:]\n",
    "    x_valid = valid_ds2.values[:,:-ts_out]\n",
    "    y_valid = valid_ds2.values[:,-ts_out:]\n",
    "    x_test = test_ds2.values[:,:-ts_out]\n",
    "    y_test = test_ds2.values[:,-ts_out:]\n",
    "    \n",
    "    x_train = x_train.reshape((x_train.shape[0], ts, n_lag*len(vars)))\n",
    "    x_valid = x_valid.reshape((x_valid.shape[0], ts, n_lag*len(vars)))   \n",
    "    x_test = x_test.reshape((x_test.shape[0], ts, n_lag*len(vars)))   \n",
    "\n",
    "    print(\"Train: \", x_train.shape, len(y_train))\n",
    "    print(\"Valid: \", x_valid.shape, len(y_valid))\n",
    "    print(\"Test: \", x_test.shape, len(y_test))\n",
    "    \n",
    "    return data2, scalers, x_train, y_train, x_valid, y_valid, x_test, y_test, []"
   ]
  },
  {
   "cell_type": "markdown",
   "metadata": {
    "id": "uaOkQLQbwNrw"
   },
   "source": [
    "# Define model functions"
   ]
  },
  {
   "cell_type": "code",
   "execution_count": 9,
   "metadata": {
    "executionInfo": {
     "elapsed": 828,
     "status": "ok",
     "timestamp": 1629666247088,
     "user": {
      "displayName": "V",
      "photoUrl": "",
      "userId": "05510664894866105539"
     },
     "user_tz": -60
    },
    "id": "00B8l7rYwRbh"
   },
   "outputs": [],
   "source": [
    "# Set up random series generator\n",
    "def make_random_data():\n",
    "    while True:\n",
    "        yield np.random.uniform(low=0, high=1, size=(ts_out, n_seq_in))\n",
    "\n",
    "# TimeGAN Set up\n",
    "##############################\n",
    "def generic_layers(n_layers, hidden_units, output_units, name, activ):\n",
    "    return Sequential([LSTM(units=hidden_units,\n",
    "                           return_sequences=True,\n",
    "                           name=f'GRU_{i + 1}') for i in range(n_layers)] +\n",
    "                      [Dense(units=output_units,\n",
    "                             activation=activ,\n",
    "                             name='OUT')], name=name)\n",
    "\n",
    "def model0(input1, input2, activ='linear', name='Supervisor', output_units=4, lstm_units=128, kr=0):\n",
    "    time_series_input1 = Input(shape=(input1.shape[1], input1.shape[2],), name='time_series1')\n",
    "    time_series_input2 = Input(shape=(input2.shape[1], input2.shape[2],), name='time_series2')\n",
    "    # Encoder\n",
    "    lstm = LSTM(lstm_units, return_sequences=True, kernel_regularizer=l2(kr), activity_regularizer=l2(kr), recurrent_regularizer=l2(kr), name='LSTMe1')(time_series_input1)\n",
    "    # Decoder\n",
    "    shrink = Lambda(lambda x: x[:, -output_units:, :])(lstm)\n",
    "    concat = Concatenate(name='concat')([time_series_input2,shrink])\n",
    "    lstm = LSTM(lstm_units, return_sequences=True, kernel_regularizer=l2(kr), activity_regularizer=l2(kr), recurrent_regularizer=l2(kr), name='LSTMd1')(concat)\n",
    "    lstm = LSTM(lstm_units, return_sequences=True, kernel_regularizer=l2(kr), activity_regularizer=l2(kr), recurrent_regularizer=l2(kr), name='LSTMd2')(concat)\n",
    "    lstm = LSTM(lstm_units, return_sequences=True, kernel_regularizer=l2(kr), activity_regularizer=l2(kr), recurrent_regularizer=l2(kr), name='LSTMd3')(concat)\n",
    "    lstm = LSTM(lstm_units, return_sequences=True, kernel_regularizer=l2(kr), activity_regularizer=l2(kr), recurrent_regularizer=l2(kr), name='LSTMd4')(concat)\n",
    "\n",
    "    output = Dense(units=output_units,activation=activ, name='Dense')(lstm)\n",
    "    model = Model(inputs=[time_series_input1,time_series_input2], outputs=output)\n",
    "    return model\n",
    "\n",
    "def model1(input1, input2, activ='linear', name='Supervisor', output_units=4, lstm_units=128, kr=0):\n",
    "    time_series_input1 = Input(shape=(input1.shape[1], input1.shape[2],), name='time_series1')\n",
    "    time_series_input2 = Input(shape=(input2.shape[1], input2.shape[2],), name='time_series2')\n",
    "    # Encoder\n",
    "    lstm = LSTM(lstm_units, return_sequences=True, kernel_regularizer=l2(kr), activity_regularizer=l2(kr), recurrent_regularizer=l2(kr), name='LSTMe1')(time_series_input1)\n",
    "    # Decoder\n",
    "    shrink = Lambda(lambda x: x[:, -output_units:, :])(lstm)\n",
    "    concat = Concatenate(name='concat')([time_series_input2,shrink])\n",
    "    lstm = LSTM(lstm_units, return_sequences=True, kernel_regularizer=l2(kr), activity_regularizer=l2(kr), recurrent_regularizer=l2(kr), name='LSTMd1')(concat)\n",
    "\n",
    "    output = TimeDistributed(Dense(units=1,activation=activ, name='Dense'))(lstm)\n",
    "    model = Model(inputs=[time_series_input1,time_series_input2], outputs=output)\n",
    "    return model\n",
    "\n",
    "# Define optimizer and loss functions\n",
    "error = MeanSquaredError()\n",
    "#error = MeanAbsoluteError()\n",
    "bce = BinaryCrossentropy()\n",
    "autoencoder_optimizer = Adam()\n",
    "supervisor_optimizer = Adam()\n",
    "generator_optimizer = Adam()\n",
    "embedding_optimizer = Adam()\n",
    "discriminator_optimizer = Adam()\n",
    "\n",
    "@tf.function\n",
    "def train_autoencoder_init(x1, x2):\n",
    "    with tf.GradientTape() as tape:\n",
    "        x_tilde = autoencoder(x2)\n",
    "        embedding_loss_t0 = error(x1, x_tilde)\n",
    "        e_loss_0 = 10 * tf.sqrt(embedding_loss_t0)\n",
    "\n",
    "    var_list = embedder.trainable_variables + recovery.trainable_variables\n",
    "    gradients = tape.gradient(e_loss_0, var_list)\n",
    "    autoencoder_optimizer.apply_gradients(zip(gradients, var_list))\n",
    "    return tf.sqrt(embedding_loss_t0)\n",
    "\n",
    "# Supervisor Training\n",
    "##############################\n",
    "@tf.function\n",
    "def train_supervisor(x):\n",
    "    with tf.GradientTape() as tape:\n",
    "        h = embedder(x)\n",
    "        h_hat_supervised = supervisor(h)\n",
    "        if len(h_hat_supervised.shape)<len(h.shape):\n",
    "            h_hat_supervised = tf.reshape(h_hat_supervised, h.shape)\n",
    "        g_loss_s = error(h[:, 1:, :], h_hat_supervised[:, :-1, :])\n",
    "\n",
    "    var_list = supervisor.trainable_variables\n",
    "    gradients = tape.gradient(g_loss_s, var_list)\n",
    "    supervisor_optimizer.apply_gradients(zip(gradients, var_list))\n",
    "    return g_loss_s\n",
    "\n",
    "# Losses\n",
    "##############################\n",
    "def get_generator_moment_loss(y_true, y_pred):\n",
    "    y_true_mean, y_true_var = tf.nn.moments(x=y_true, axes=[0])\n",
    "    y_pred_mean, y_pred_var = tf.nn.moments(x=y_pred, axes=[0])\n",
    "    g_loss_mean = tf.reduce_mean(tf.abs(y_true_mean - y_pred_mean))\n",
    "    g_loss_var = tf.reduce_mean(tf.abs(tf.sqrt(y_true_var + 1e-6) - tf.sqrt(y_pred_var + 1e-6)))\n",
    "    return g_loss_mean + g_loss_var\n",
    "\n",
    "### Generator Traiin Step\n",
    "###########################\n",
    "@tf.function\n",
    "def train_generator(x1, x2, z):\n",
    "    with tf.GradientTape() as tape:\n",
    "        x1 = tf.cast(x1,tf.float32)\n",
    "        #x2 = tf.cast(x2,tf.float32)\n",
    "        y_fake = adversarial_supervised(z)\n",
    "        generator_loss_unsupervised = bce(y_true=tf.ones_like(y_fake),\n",
    "                                          y_pred=y_fake)\n",
    "\n",
    "        y_fake_e = adversarial_emb(z)\n",
    "        generator_loss_unsupervised_e = bce(y_true=tf.ones_like(y_fake_e),\n",
    "                                            y_pred=y_fake_e)\n",
    "        h = embedder(x2)\n",
    "        h_hat_supervised = supervisor(h)\n",
    "        if len(h_hat_supervised.shape)<len(h.shape):\n",
    "            h_hat_supervised = tf.reshape(h_hat_supervised, h.shape)\n",
    "        generator_loss_supervised = error(h[:, 1:, :], h_hat_supervised[:, :-1, :])\n",
    "\n",
    "        x_hat = synthetic_data(z)\n",
    "        generator_moment_loss = get_generator_moment_loss(x1, x_hat)\n",
    "\n",
    "        generator_loss = (generator_loss_unsupervised +\n",
    "                          generator_loss_unsupervised_e +\n",
    "                          100 * tf.sqrt(generator_loss_supervised) +\n",
    "                          100 * generator_moment_loss)\n",
    "\n",
    "    var_list = generator.trainable_variables + supervisor.trainable_variables\n",
    "    gradients = tape.gradient(generator_loss, var_list)\n",
    "    generator_optimizer.apply_gradients(zip(gradients, var_list))\n",
    "    #return np.array(generator_loss_unsupervised), np.array(generator_loss_supervised), np.array(generator_moment_loss)\n",
    "    return generator_loss_unsupervised, generator_loss_supervised, generator_moment_loss\n",
    "\n",
    "### Embedding Train Step\n",
    "##############################\n",
    "@tf.function\n",
    "def train_embedder(x1, x2):\n",
    "    with tf.GradientTape() as tape:\n",
    "        h = embedder(x2)\n",
    "        h_hat_supervised = supervisor(h)\n",
    "        if len(h_hat_supervised.shape)<len(h.shape):\n",
    "            h_hat_supervised = tf.reshape(h_hat_supervised, h.shape)\n",
    "        generator_loss_supervised = error(h[:, 1:, :], h_hat_supervised[:, :-1, :])\n",
    "\n",
    "        x_tilde = autoencoder(x2)\n",
    "        embedding_loss_t0 = error(x1, x_tilde)\n",
    "        e_loss = 10 * tf.sqrt(embedding_loss_t0) + 0.1 * generator_loss_supervised\n",
    "\n",
    "    var_list = embedder.trainable_variables + recovery.trainable_variables\n",
    "    gradients = tape.gradient(e_loss, var_list)\n",
    "    embedding_optimizer.apply_gradients(zip(gradients, var_list))\n",
    "    return tf.sqrt(embedding_loss_t0)\n",
    "\n",
    "### Discriminator Train Step\n",
    "##############################\n",
    "@tf.function\n",
    "def get_discriminator_loss(x, z):\n",
    "    y_real = discriminator_model(x)\n",
    "    discriminator_loss_real = bce(y_true=tf.ones_like(y_real),\n",
    "                                  y_pred=y_real)\n",
    "\n",
    "    y_fake = adversarial_supervised(z)\n",
    "    discriminator_loss_fake = bce(y_true=tf.zeros_like(y_fake),\n",
    "                                  y_pred=y_fake)\n",
    "\n",
    "    y_fake_e = adversarial_emb(z)\n",
    "    discriminator_loss_fake_e = bce(y_true=tf.zeros_like(y_fake_e),\n",
    "                                    y_pred=y_fake_e)\n",
    "    return (discriminator_loss_real +\n",
    "            discriminator_loss_fake +\n",
    "            gamma * discriminator_loss_fake_e), discriminator_loss_real, discriminator_loss_fake, discriminator_loss_fake_e\n",
    "\n",
    "@tf.function\n",
    "def train_discriminator(x, z):\n",
    "    with tf.GradientTape() as tape:\n",
    "        discriminator_loss, discriminator_loss_real, discriminator_loss_fake, discriminator_loss_fake_e = get_discriminator_loss(x, z)\n",
    "\n",
    "    var_list = discriminator.trainable_variables\n",
    "    gradients = tape.gradient(discriminator_loss, var_list)\n",
    "    discriminator_optimizer.apply_gradients(zip(gradients, var_list))\n",
    "    return discriminator_loss, discriminator_loss_real, discriminator_loss_fake, discriminator_loss_fake_e"
   ]
  },
  {
   "cell_type": "markdown",
   "metadata": {
    "id": "uelfcDg9khpO"
   },
   "source": [
    "# Predictions"
   ]
  },
  {
   "cell_type": "code",
   "execution_count": 10,
   "metadata": {
    "executionInfo": {
     "elapsed": 5,
     "status": "ok",
     "timestamp": 1629666247089,
     "user": {
      "displayName": "V",
      "photoUrl": "",
      "userId": "05510664894866105539"
     },
     "user_tz": -60
    },
    "id": "vh37yJS_fVvg"
   },
   "outputs": [],
   "source": [
    "# calculate frechet inception distance\n",
    "# Source: https://machinelearningmastery.com/how-to-implement-the-frechet-inception-distance-fid-from-scratch/\n",
    "def calculate_fid(act1, act2):\n",
    "\t# calculate mean and covariance statistics\n",
    "\tmu1, sigma1 = act1.mean(axis=0), np.cov(act1, rowvar=False)\n",
    "\tmu2, sigma2 = act2.mean(axis=0), np.cov(act2, rowvar=False)\n",
    "\t# calculate sum squared difference between means\n",
    "\tssdiff = np.sum((mu1 - mu2)**2.0)\n",
    "\t# calculate sqrt of product between cov\n",
    "\tcovmean = sqrtm(sigma1.dot(sigma2))\n",
    "\t# check and correct imaginary numbers from sqrt\n",
    "\tif np.iscomplexobj(covmean):\n",
    "\t\tcovmean = covmean.real\n",
    "\t# calculate score\n",
    "\tfid = ssdiff + np.trace(sigma1 + sigma2 - 2.0 * covmean)\n",
    "\treturn fid"
   ]
  },
  {
   "cell_type": "code",
   "execution_count": 11,
   "metadata": {
    "executionInfo": {
     "elapsed": 898,
     "status": "ok",
     "timestamp": 1629666247983,
     "user": {
      "displayName": "V",
      "photoUrl": "",
      "userId": "05510664894866105539"
     },
     "user_tz": -60
    },
    "id": "3Mz70TwXkkgR"
   },
   "outputs": [],
   "source": [
    "def prediction(scalers, importance=0, autoenc=0):\n",
    "    # Calculate MSE on train data\n",
    "    zt_data = []\n",
    "    for i in range(int(len(x_train)/batch_size)+1):\n",
    "        Z_ = next(random_series)\n",
    "        zt_data.append(Z_.numpy())\n",
    "    Z = np.concatenate([df for df in zt_data])[:len(x_train),:,:1]\n",
    "    # Calculate predicted values\n",
    "    generated_datatt = synthetic_data([x_train,Z])[:,:,0]\n",
    "    yhattt = (scalers[1].inverse_transform(generated_datatt)\n",
    "                   .reshape(-1, ts_out, n_seq_out))[:,:,0]\n",
    "\n",
    "    y_acttt = scalers[1].inverse_transform(y_train) # unnormalize\n",
    "    \n",
    "    # Calculate RMSE\n",
    "    print(\"Performance on Train data:\")\n",
    "    mset = mean_squared_error(y_acttt, yhattt)\n",
    "    print('Train MSE: %.3f' % mset)\n",
    "    fid = calculate_fid(y_acttt, yhattt)\n",
    "    print('Train FID: %.3f' % fid)\n",
    "\n",
    "    # Calculate MSE on validation data\n",
    "    zt_data = []\n",
    "    for i in range(int(len(x_valid)/batch_size)+1):\n",
    "        Z_ = next(random_series)\n",
    "        zt_data.append(Z_.numpy())\n",
    "    Z = np.concatenate([df for df in zt_data])[:len(x_valid),:,:1]\n",
    "    # Calculate predicted values\n",
    "    generated_datav = synthetic_data([x_valid,Z])[:,:,0]\n",
    "    yhatv = (scalers[1].inverse_transform(generated_datav)\n",
    "                   .reshape(-1, ts_out, n_seq_out))[:,:,0]\n",
    "\n",
    "    y_actv = scalers[1].inverse_transform(y_valid) # unnormalize\n",
    "    \n",
    "    # Calculate RMSE\n",
    "    print(\"Performance on Validation data:\")\n",
    "    msev = mean_squared_error(y_actv, yhatv)\n",
    "    print('Validation MSE: %.3f' % msev)\n",
    "    fid = calculate_fid(y_actv, yhatv)\n",
    "    print('Validation FID: %.3f' % fid)\n",
    "\n",
    "    ### Prediction on Test data\n",
    "    # Generate Synthetic Data\n",
    "    zt_data = []\n",
    "    for i in range(int(len(x_test)/batch_size)+1):\n",
    "        Z_ = next(random_series)\n",
    "        zt_data.append(Z_.numpy())\n",
    "    Z = np.concatenate([df for df in zt_data])[:len(x_test),:,:1]\n",
    "    # Calculate predicted values\n",
    "    generated_datat = synthetic_data([x_test,Z])[:,:,0]\n",
    "    yhatt = (scalers[1].inverse_transform(generated_datat)\n",
    "                   .reshape(-1, ts_out, n_seq_out))[:,:,0]\n",
    "\n",
    "    y_actt = scalers[1].inverse_transform(y_test) # unnormalize\n",
    "    \n",
    "    # Calculate RMSE\n",
    "    print(\"Performance on Test data:\")\n",
    "    rmse = np.sqrt(mean_squared_error(y_actt, yhatt))\n",
    "    mae = np.sum(abs(y_actt - yhatt))/(yhatt.shape[0]*yhatt.shape[1])\n",
    "    print('Test RMSE: %.3f' % rmse) \n",
    "    print('Test MAE: %.3f' % mae)\n",
    "    rmse_period = np.sqrt(((y_actt-yhatt)**2).mean(axis=0))\n",
    "    mae_period = abs(y_actt-yhatt).mean(axis=0)\n",
    "    for i in range(len(rmse_period)):\n",
    "        print('Test RMSE period %d: %.3f' %(i,rmse_period[i]))\n",
    "    for i in range(len(mae_period)):\n",
    "        print('Test MAE period %d: %.3f' %(i,mae_period[i]))\n",
    "    fid = calculate_fid(y_actt, yhatt)\n",
    "    print('Test FID: %.3f' % fid)\n",
    "\n",
    "    #### Prediction on full dataset\n",
    "    gc.collect(generation=2)\n",
    "    # Scale the data\n",
    "    data_s = pd.DataFrame(scalers[0].transform(data2),columns=data2.columns, index=data2.index)\n",
    "    # Ad timesteps\n",
    "    data_all = convert_timeseries(data_s, n_in=ts, ts_out=ts_out)\n",
    "\n",
    "    label_encoder = LabelEncoder()\n",
    "    companies_df_all = pd.DataFrame(label_encoder.fit_transform(data_all.reset_index().cik), index=data_all.index)\n",
    "    \n",
    "    x_act = data_all.values[:,:-ts_out]\n",
    "    x_act = x_act.reshape((x_act.shape[0], ts, len(vars)))\n",
    "    y_act = data_all.values[:,-ts_out:]\n",
    "\n",
    "    # Generate Synthetic Data\n",
    "    z_data = []\n",
    "    for i in range(int(len(x_act)/batch_size)+1):\n",
    "        Z_ = next(random_series)\n",
    "        z_data.append(Z_.numpy())\n",
    "    Z = np.concatenate([df for df in z_data])[:len(x_act),:,:1]\n",
    "    # Calculate predicted values\n",
    "    generated_data = synthetic_data([x_act,Z])[:,:,0]\n",
    "    yhat = (scalers[1].inverse_transform(generated_data)\n",
    "                   .reshape(-1, ts_out, n_seq_out))[:,:,0]\n",
    "\n",
    "    y_act = scalers[1].inverse_transform(y_act) # unnormalize\n",
    "    \n",
    "    # Calculate RMSE\n",
    "    rmse = np.sqrt(mean_squared_error(y_act, yhat))\n",
    "    print('Full RMSE: %.3f' % rmse) \n",
    "    rmse_period = np.sqrt(((y_act-yhat)**2).mean(axis=0))\n",
    "    for i in range(len(rmse_period)):\n",
    "        print('Full RMSE period %d: %.3f' %(i,rmse_period[i]))\n",
    "    # Calculate FID\n",
    "    fid = calculate_fid(y_act, yhat)\n",
    "    print('Full FID: %.3f' % fid)\n",
    "    \n",
    "    # Plot Act vs Exp scatterplot\n",
    "    for i in range(yhat.shape[1]):\n",
    "        ys = pd.DataFrame()\n",
    "        ys['act'] = y_act[:,i]\n",
    "        ys['exp'] = yhat[:,i]\n",
    "        ys.index = pd.MultiIndex.from_arrays(data_all.reset_index()[id].values.T, names=['cik', 'date'])\n",
    "    \n",
    "        plt.scatter(ys.loc[:,\"act\"],ys.loc[:,\"exp\"])\n",
    "        plt.xlabel(\"Actual\")\n",
    "        plt.ylabel(\"Predicted\")\n",
    "        plt.title('Period %d' % i)\n",
    "        plt.xlim([ys.act.min(), ys.act.max()]) \n",
    "        plt.ylim([ys.act.min(), ys.act.max()])\n",
    "        plt.show()\n",
    "\n",
    "    # Find impact of each var on RMSE\n",
    "    impt_var = pd.DataFrame(columns=['Var', 'RMSE'])\n",
    "    if importance==1:\n",
    "        j=0\n",
    "        for i in range(x_act.shape[2]):\n",
    "            test_Xt = x_act.copy()\n",
    "            test_Xt[:,:,i] = 0\n",
    "            Zallt = np.concatenate([Z,test_Xt],axis=2)\n",
    "            # Calculate predicted values\n",
    "            generated_datat = synthetic_data(Zallt)[:,:,0]\n",
    "            yhatt = (scalers[1].inverse_transform(generated_datat)\n",
    "                   .reshape(-1, ts, n_seq_out))[:,:,0]\n",
    "            \n",
    "            rmset = np.sqrt(mean_squared_error(y_act, yhatt))\n",
    "            drmse = rmset - rmse\n",
    "            impt_var.loc[j,'var'] = all_lag.columns[j]\n",
    "            impt_var.loc[j,'RMSE'] = drmse\n",
    "            gc.collect(generation=2)\n",
    "            j+=1\n",
    "        plt.show()\n",
    "\n",
    "    return data_all, y_act, yhat, y_actt, yhatt, impt_var, mset, msev\n",
    "\n",
    "def sample_plot(co=13, f_yr=4, step=1):\n",
    "    forecast = pd.DataFrame(yhat)\n",
    "    forecast.index = pd.MultiIndex.from_arrays(all_lag.reset_index()[id].values.T, names=['cik', 'date'])\n",
    "    forecast_co = forecast.loc[co,:]\n",
    "    series = pd.DataFrame(y_act)\n",
    "    series.index = pd.MultiIndex.from_arrays(all_lag.reset_index()[id].values.T, names=['cik', 'date'])\n",
    "    series_co = series.loc[co,[0]]\n",
    "    # add last quarters to actual data\n",
    "    for i in range(series.shape[1]-1):\n",
    "        add_month = pd.DataFrame(series.loc[co,i+1][-1:])\n",
    "        add_month.index=add_month.reset_index().date+ pd.DateOffset(months=3*(i+1))\n",
    "        add_month.columns=series_co.columns\n",
    "        series_co = series_co.append(add_month)\n",
    "    # Plot actual and forecast \n",
    "    dates = series_co.reset_index().date\n",
    "    n_test = min(f_yr*4,floor(len(series_co)/step)*4)\n",
    "    plt.plot(series_co, label=\"Actual\")\n",
    "    for i in range(0,n_test,step):\n",
    "        off_s = max(0,len(series_co) - n_test + i - 1)\n",
    "        off_e = min(len(series_co),off_s + len(forecast_co.values[i]) + 1)\n",
    "        xaxis = [dates[x] for x in range(off_s, off_e)]\n",
    "        yaxis = [series_co.values[off_s]]\n",
    "        yaxis.extend(forecast_co.values[off_s+1])\n",
    "        if i==0:\n",
    "          plt.plot(xaxis, yaxis,'-',color='red', label=\"Predicted\")\n",
    "        else:\n",
    "          plt.plot(xaxis, yaxis,'-',color='red')\n",
    "    name = names.loc[co,'name'] if len(names.loc[co,])==1 else names.loc[co,'name'][0]\n",
    "    plt.xlabel(\"Time\")\n",
    "    plt.ylabel(\"Ln(price)\")\n",
    "    plt.legend()\n",
    "    plt.title(name)\n",
    "    plt.show()        "
   ]
  },
  {
   "cell_type": "code",
   "execution_count": 12,
   "metadata": {
    "executionInfo": {
     "elapsed": 10,
     "status": "ok",
     "timestamp": 1629666247984,
     "user": {
      "displayName": "V",
      "photoUrl": "",
      "userId": "05510664894866105539"
     },
     "user_tz": -60
    },
    "id": "9DQGnWrNlVHC"
   },
   "outputs": [],
   "source": [
    "from sklearn.decomposition import PCA\n",
    "def PCA_Analysis (dataX, dataX_hat):\n",
    "  \n",
    "    # Analysis Data Size\n",
    "    Sample_No = min(len(dataX)-100, len(dataX_hat)-100)\n",
    "    \n",
    "    # Data Preprocessing\n",
    "    for i in range(Sample_No):\n",
    "        if (i == 0):\n",
    "            arrayX = np.reshape(np.asarray(dataX[0]), [1,len(dataX[0])])\n",
    "            arrayX_hat = np.reshape(np.asarray(dataX_hat[0]), [1,len(dataX[0])])\n",
    "        else:\n",
    "            arrayX = np.concatenate((arrayX, np.reshape(np.asarray(dataX[i]), [1,len(dataX[0])])))\n",
    "            arrayX_hat = np.concatenate((arrayX_hat, np.reshape(np.asarray(dataX_hat[i]), [1,len(dataX[0])])))\n",
    "    \n",
    "    # Parameters        \n",
    "    No = len(arrayX[:,0])\n",
    "    colors = [\"red\" for i in range(No)] +  [\"blue\" for i in range(No)]    \n",
    "    \n",
    "    # PCA Analysis\n",
    "    pca = PCA(n_components = 2)\n",
    "    pca.fit(arrayX)\n",
    "    pca_results = pca.transform(arrayX)\n",
    "    pca_hat_results = pca.transform(arrayX_hat)\n",
    "        \n",
    "    # Plotting\n",
    "    f, ax = plt.subplots(1)\n",
    "    \n",
    "    plt.scatter(pca_results[:,0], pca_results[:,1], c = colors[:No], alpha = 0.2, label = \"Original\")\n",
    "    plt.scatter(pca_hat_results[:,0], pca_hat_results[:,1], c = colors[No:], alpha = 0.2, label = \"Synthetic\")\n",
    "\n",
    "    ax.legend()\n",
    "    \n",
    "    plt.title('PCA plot')\n",
    "    plt.xlabel('x-pca')\n",
    "    plt.ylabel('y_pca')\n",
    "    plt.show()    "
   ]
  },
  {
   "cell_type": "code",
   "execution_count": 13,
   "metadata": {
    "executionInfo": {
     "elapsed": 10,
     "status": "ok",
     "timestamp": 1629666247985,
     "user": {
      "displayName": "V",
      "photoUrl": "",
      "userId": "05510664894866105539"
     },
     "user_tz": -60
    },
    "id": "51wj6hsBB4WJ"
   },
   "outputs": [],
   "source": [
    "def tSNE_Analysis (dataX, dataX_hat):\n",
    "  \n",
    "    # Analysis Data Size\n",
    "    Sample_No = min(len(dataX)-100, len(dataX_hat)-100)\n",
    "  \n",
    "    # Preprocess\n",
    "    for i in range(Sample_No):\n",
    "        if (i == 0):\n",
    "            arrayX = np.reshape(np.asarray(dataX[0]), [1,len(dataX[0])])\n",
    "            arrayX_hat = np.reshape(np.asarray(dataX_hat[0]), [1,len(dataX[0])])\n",
    "        else:\n",
    "            arrayX = np.concatenate((arrayX, np.reshape(np.asarray(dataX[i]), [1,len(dataX[0])])))\n",
    "            arrayX_hat = np.concatenate((arrayX_hat, np.reshape(np.asarray(dataX_hat[i]), [1,len(dataX[0])])))\n",
    "     \n",
    "    # Do t-SNE Analysis together       \n",
    "    final_arrayX = np.concatenate((arrayX, arrayX_hat), axis = 0)\n",
    "    \n",
    "    # Parameters\n",
    "    No = len(arrayX[:,0])\n",
    "    colors = [\"red\" for i in range(No)] +  [\"blue\" for i in range(No)]    \n",
    "    \n",
    "    # TSNE anlaysis\n",
    "    tsne = TSNE(n_components = 2, verbose = 1, perplexity = 40, n_iter = 300)\n",
    "    tsne_results = tsne.fit_transform(final_arrayX)\n",
    "    \n",
    "    # Plotting\n",
    "    f, ax = plt.subplots(1)\n",
    "    \n",
    "    plt.scatter(tsne_results[:No,0], tsne_results[:No,1], c = colors[:No], alpha = 0.2, label = \"Original\")\n",
    "    plt.scatter(tsne_results[No:,0], tsne_results[No:,1], c = colors[No:], alpha = 0.2, label = \"Synthetic\")\n",
    "\n",
    "    ax.legend()\n",
    "    \n",
    "    plt.title('t-SNE plot')\n",
    "    plt.xlabel('x-tsne')\n",
    "    plt.ylabel('y_tsne')\n",
    "    plt.show()"
   ]
  },
  {
   "cell_type": "markdown",
   "metadata": {
    "id": "7j7iXvhN3PaO"
   },
   "source": [
    "# Train model"
   ]
  },
  {
   "cell_type": "markdown",
   "metadata": {
    "id": "63xcAM_3KfUJ"
   },
   "source": [
    "### Run Data Preparation Steps"
   ]
  },
  {
   "cell_type": "code",
   "execution_count": 14,
   "metadata": {
    "colab": {
     "base_uri": "https://localhost:8080/",
     "height": 334
    },
    "executionInfo": {
     "elapsed": 107121,
     "status": "ok",
     "timestamp": 1629666355096,
     "user": {
      "displayName": "V",
      "photoUrl": "",
      "userId": "05510664894866105539"
     },
     "user_tz": -60
    },
    "id": "BhODUMb41xuk",
    "outputId": "f64fcb58-8008-4c5f-b2b5-8e4b92d6aade"
   },
   "outputs": [
    {
     "data": {
      "image/png": "[encoded data removed]",
      "text/plain": [
       "<Figure size 432x288 with 1 Axes>"
      ]
     },
     "metadata": {
      "needs_background": "light"
     },
     "output_type": "display_data"
    },
    {
     "name": "stdout",
     "output_type": "stream",
     "text": [
      "Train:  (53622, 8, 18) 53622\n",
      "Valid:  (3035, 8, 18) 3035\n",
      "Test:  (3035, 8, 18) 3035\n"
     ]
    }
   ],
   "source": [
    "ts = 8\n",
    "ts_out = 4\n",
    "data, helper = extract_data(df_name='dataf_interp2', DV='lCloseAvg', drop=['name','Office','Close','lClose','CloseAvg'])\n",
    "locals().update(helper)\n",
    "\n",
    "vars = dv + ratios + macroec + ['CA','CN','OT','US']\n",
    "data2, scalers, x_train, y_train, x_valid, y_valid, x_test, y_test, batch_arrays = \\\n",
    "    prepare_data_order(data, vars, val_mths=4, ts=ts)"
   ]
  },
  {
   "cell_type": "markdown",
   "metadata": {
    "id": "lBhBsXLRKtTg"
   },
   "source": [
    "### Set up parameters"
   ]
  },
  {
   "cell_type": "code",
   "execution_count": 15,
   "metadata": {
    "executionInfo": {
     "elapsed": 10,
     "status": "ok",
     "timestamp": 1629666355097,
     "user": {
      "displayName": "V",
      "photoUrl": "",
      "userId": "05510664894866105539"
     },
     "user_tz": -60
    },
    "id": "ABwJz2QX8HZy"
   },
   "outputs": [],
   "source": [
    "hidden_dim = 32\n",
    "num_layers = 1\n",
    "batch_size = 32\n",
    "train_steps = 10\n",
    "gamma = 1\n",
    "n_windows = len(x_train)\n",
    "n_seq_in = x_train.shape[2]\n",
    "n_seq_out = 1\n",
    "embed_dim = 4\n",
    "kr = 0"
   ]
  },
  {
   "cell_type": "markdown",
   "metadata": {
    "id": "8JWJGtItKw4e"
   },
   "source": [
    "### Set up input series\n"
   ]
  },
  {
   "cell_type": "code",
   "execution_count": 16,
   "metadata": {
    "executionInfo": {
     "elapsed": 9,
     "status": "ok",
     "timestamp": 1629666355097,
     "user": {
      "displayName": "V",
      "photoUrl": "",
      "userId": "05510664894866105539"
     },
     "user_tz": -60
    },
    "id": "NFAAOvIk0fvZ"
   },
   "outputs": [],
   "source": [
    "# Extract input and random data\n",
    "input_series1 = (tf.data.Dataset\n",
    "               .from_tensor_slices(x_train))\n",
    "input_series2 = (tf.data.Dataset\n",
    "               .from_tensor_slices(y_train))\n",
    "input_series3 = (tf.data.Dataset\n",
    "               .from_tensor_slices(y_train))\n",
    "\n",
    "input_series3_iter = iter(input_series3.repeat())\n",
    "random_series = iter(tf.data.Dataset\n",
    "                     .from_generator(make_random_data, output_types=tf.float32)\n",
    "                     .batch(batch_size)\n",
    "                     .repeat())\n",
    "\n",
    "# Input place holders\n",
    "Xin1 = Input(shape=[ts, n_seq_in], name='RealDataX')\n",
    "Xin2 = Input(shape=[ts_out, n_seq_out], name='RealDataY')\n",
    "Xout = Input(shape=[ts_out, ts_out], name='SyntData')\n",
    "Z = Input(shape=[ts_out, n_seq_out], name='RandomData')"
   ]
  },
  {
   "cell_type": "markdown",
   "metadata": {
    "id": "1UM5clNyKzJG"
   },
   "source": [
    "### Define models"
   ]
  },
  {
   "cell_type": "code",
   "execution_count": 17,
   "metadata": {
    "executionInfo": {
     "elapsed": 2822,
     "status": "ok",
     "timestamp": 1629666357910,
     "user": {
      "displayName": "V",
      "photoUrl": "",
      "userId": "05510664894866105539"
     },
     "user_tz": -60
    },
    "id": "uXYwSZ62-p1N"
   },
   "outputs": [],
   "source": [
    "embedder = model0(Xin1, Xin2, activ='linear',\n",
    "                    name='Embedder', \n",
    "                    output_units=embed_dim, \n",
    "                    lstm_units=hidden_dim, \n",
    "                    kr=kr)\n",
    "recovery = generic_layers(n_layers=num_layers, \n",
    "                    hidden_units=hidden_dim, \n",
    "                    output_units=n_seq_out, \n",
    "                    name='Recovery',\n",
    "                    activ='sigmoid')\n",
    "generator = model0(Xin1, Xin2, activ='linear',\n",
    "                    name='Generator', \n",
    "                    output_units=embed_dim, \n",
    "                    lstm_units=hidden_dim, \n",
    "                    kr=kr)\n",
    "discriminator = model1(Xin1, Xout, activ='sigmoid',\n",
    "                    name='Embedder', \n",
    "                    output_units=embed_dim, \n",
    "                    lstm_units=hidden_dim, \n",
    "                    kr=kr)\n",
    "supervisor = generic_layers(n_layers=num_layers, \n",
    "                    hidden_units=hidden_dim, \n",
    "                    output_units=ts_out, \n",
    "                    name='Supervisor',\n",
    "                    activ='linear')"
   ]
  },
  {
   "cell_type": "markdown",
   "metadata": {
    "id": "5VXXN8XlK2Ed"
   },
   "source": [
    "### Train Autoencoder"
   ]
  },
  {
   "cell_type": "code",
   "execution_count": 18,
   "metadata": {
    "colab": {
     "base_uri": "https://localhost:8080/",
     "height": 0
    },
    "executionInfo": {
     "elapsed": 54249,
     "status": "ok",
     "timestamp": 1629666412157,
     "user": {
      "displayName": "V",
      "photoUrl": "",
      "userId": "05510664894866105539"
     },
     "user_tz": -60
    },
    "id": "Iof4iT7eiQ03",
    "outputId": "82adcc78-6930-4ace-9125-af927c61da7d"
   },
   "outputs": [
    {
     "name": "stdout",
     "output_type": "stream",
     "text": [
      "Model: \"Autoencoder\"\n",
      "__________________________________________________________________________________________________\n",
      "Layer (type)                    Output Shape         Param #     Connected to                     \n",
      "==================================================================================================\n",
      "RealDataX (InputLayer)          [(None, 8, 18)]      0                                            \n",
      "__________________________________________________________________________________________________\n",
      "RealDataY (InputLayer)          [(None, 4, 1)]       0                                            \n",
      "__________________________________________________________________________________________________\n",
      "model (Functional)              (None, 4, 4)         15108       RealDataX[0][0]                  \n",
      "                                                                 RealDataY[0][0]                  \n",
      "__________________________________________________________________________________________________\n",
      "Recovery (Sequential)           (None, 4, 1)         4769        model[0][0]                      \n",
      "==================================================================================================\n",
      "Total params: 19,877\n",
      "Trainable params: 19,877\n",
      "Non-trainable params: 0\n",
      "__________________________________________________________________________________________________\n"
     ]
    },
    {
     "name": "stderr",
     "output_type": "stream",
     "text": [
      "\r",
      "  0%|          | 0/10 [00:00<?, ?it/s]"
     ]
    },
    {
     "name": "stdout",
     "output_type": "stream",
     "text": [
      "WARNING:tensorflow:5 out of the last 22 calls to <function train_autoencoder_init at 0x7fee14ffa710> triggered tf.function retracing. Tracing is expensive and the excessive number of tracings could be due to (1) creating @tf.function repeatedly in a loop, (2) passing tensors with different shapes, (3) passing Python objects instead of tensors. For (1), please define your @tf.function outside of the loop. For (2), @tf.function has experimental_relax_shapes=True option that relaxes argument shapes that can avoid unnecessary retracing. For (3), please refer to https://www.tensorflow.org/guide/function#controlling_retracing and https://www.tensorflow.org/api_docs/python/tf/function for  more details.\n",
      "WARNING:tensorflow:5 out of the last 19 calls to <function train_autoencoder_init at 0x7fee14ffa710> triggered tf.function retracing. Tracing is expensive and the excessive number of tracings could be due to (1) creating @tf.function repeatedly in a loop, (2) passing tensors with different shapes, (3) passing Python objects instead of tensors. For (1), please define your @tf.function outside of the loop. For (2), @tf.function has experimental_relax_shapes=True option that relaxes argument shapes that can avoid unnecessary retracing. For (3), please refer to https://www.tensorflow.org/guide/function#controlling_retracing and https://www.tensorflow.org/api_docs/python/tf/function for  more details.\n"
     ]
    },
    {
     "name": "stderr",
     "output_type": "stream",
     "text": [
      "\r",
      "  0%|          | 0/10 [00:53<?, ?it/s]\n"
     ]
    },
    {
     "data": {
      "image/png": "[encoded data removed]",
      "text/plain": [
       "<Figure size 432x288 with 1 Axes>"
      ]
     },
     "metadata": {
      "needs_background": "light"
     },
     "output_type": "display_data"
    }
   ],
   "source": [
    "### Train Autoencoder\n",
    "H = embedder([Xin1,Xin2])\n",
    "X_tilde = recovery(H)\n",
    "autoencoder = Model(inputs=[Xin1,Xin2],\n",
    "                    outputs=X_tilde,\n",
    "                    name='Autoencoder')\n",
    "\n",
    "autoencoder.summary()\n",
    "plot_model(autoencoder, show_shapes=True)\n",
    "\n",
    "# Autoencoder Training Loop\n",
    "e_hist = []\n",
    "for step in tqdm(range(train_steps)):\n",
    "    for bstep in range(len(batch_arrays[0])):\n",
    "        b_start = sum(batch_arrays[0][:bstep])\n",
    "        b_end = b_start + batch_arrays[0][bstep]\n",
    "\n",
    "        x_batch_train = x_train[b_start:b_end]\n",
    "        y_batch_train = y_train[b_start:b_end]\n",
    "\n",
    "        X1_ = tf.convert_to_tensor(x_batch_train, np.float32)\n",
    "        X2_ = tf.convert_to_tensor(y_batch_train, np.float32)\n",
    "        #X1_ = tf.convert_to_tensor(input_series1[b_start:b_end], np.float32)\n",
    "        #X2_ = tf.convert_to_tensor(input_series2[b_start:b_end], np.float32)\n",
    "\n",
    "        step_e_loss_t0 = train_autoencoder_init(X2_,[X1_,X2_])\n",
    "        e_hist.append(np.float(step_e_loss_t0))\n",
    "        with writer.as_default():\n",
    "            tf.summary.scalar('Loss Autoencoder Init', step_e_loss_t0, step=step)\n",
    "        \n",
    "        bstep +=1\n",
    "        if bstep>=len(batch_arrays[0]):\n",
    "            break\n",
    "    if bstep>=len(batch_arrays[0]):\n",
    "        break\n",
    "plt.plot(e_hist)\n",
    "plt.show()"
   ]
  },
  {
   "cell_type": "markdown",
   "metadata": {
    "id": "XkRfOIqXK3zX"
   },
   "source": [
    "### Train Supervisor"
   ]
  },
  {
   "cell_type": "code",
   "execution_count": 19,
   "metadata": {
    "colab": {
     "base_uri": "https://localhost:8080/",
     "height": 0
    },
    "executionInfo": {
     "elapsed": 47175,
     "status": "ok",
     "timestamp": 1629666459321,
     "user": {
      "displayName": "V",
      "photoUrl": "",
      "userId": "05510664894866105539"
     },
     "user_tz": -60
    },
    "id": "bNDMYCQP9PWs",
    "outputId": "26b93a20-0ea4-45a2-daed-d96c184222df"
   },
   "outputs": [
    {
     "name": "stderr",
     "output_type": "stream",
     "text": [
      "\r",
      "  0%|          | 0/10 [00:00<?, ?it/s]"
     ]
    },
    {
     "name": "stdout",
     "output_type": "stream",
     "text": [
      "WARNING:tensorflow:5 out of the last 22 calls to <function train_supervisor at 0x7fee14ffaf80> triggered tf.function retracing. Tracing is expensive and the excessive number of tracings could be due to (1) creating @tf.function repeatedly in a loop, (2) passing tensors with different shapes, (3) passing Python objects instead of tensors. For (1), please define your @tf.function outside of the loop. For (2), @tf.function has experimental_relax_shapes=True option that relaxes argument shapes that can avoid unnecessary retracing. For (3), please refer to https://www.tensorflow.org/guide/function#controlling_retracing and https://www.tensorflow.org/api_docs/python/tf/function for  more details.\n",
      "WARNING:tensorflow:5 out of the last 19 calls to <function train_supervisor at 0x7fee14ffaf80> triggered tf.function retracing. Tracing is expensive and the excessive number of tracings could be due to (1) creating @tf.function repeatedly in a loop, (2) passing tensors with different shapes, (3) passing Python objects instead of tensors. For (1), please define your @tf.function outside of the loop. For (2), @tf.function has experimental_relax_shapes=True option that relaxes argument shapes that can avoid unnecessary retracing. For (3), please refer to https://www.tensorflow.org/guide/function#controlling_retracing and https://www.tensorflow.org/api_docs/python/tf/function for  more details.\n"
     ]
    },
    {
     "name": "stderr",
     "output_type": "stream",
     "text": [
      "\r",
      "  0%|          | 0/10 [00:46<?, ?it/s]\n"
     ]
    },
    {
     "data": {
      "image/png": "[encoded data removed]",
      "text/plain": [
       "<Figure size 432x288 with 1 Axes>"
      ]
     },
     "metadata": {
      "needs_background": "light"
     },
     "output_type": "display_data"
    }
   ],
   "source": [
    "### Train Supervisor\n",
    "s_hist = []\n",
    "#supervisor.summary()\n",
    "for step in tqdm(range(train_steps)):\n",
    "    for bstep in range(len(batch_arrays[0])):\n",
    "        b_start = sum(batch_arrays[0][:bstep])\n",
    "        b_end = b_start + batch_arrays[0][bstep]\n",
    "\n",
    "        x_batch_train = x_train[b_start:b_end]\n",
    "        y_batch_train = y_train[b_start:b_end]\n",
    "\n",
    "        X1_ = tf.convert_to_tensor(x_batch_train, np.float32)\n",
    "        X2_ = tf.convert_to_tensor(y_batch_train, np.float32)\n",
    "\n",
    "        step_g_loss_s = train_supervisor([X1_,X2_])\n",
    "        s_hist.append(np.float(step_g_loss_s))\n",
    "        with writer.as_default():\n",
    "            tf.summary.scalar('Loss Generator Supervised Init', step_g_loss_s, step=step)\n",
    "        \n",
    "        bstep +=1\n",
    "        if bstep>=len(batch_arrays[0]):\n",
    "            break\n",
    "    if bstep>=len(batch_arrays[0]):\n",
    "        break\n",
    "\n",
    "plt.plot(s_hist)\n",
    "plt.show()"
   ]
  },
  {
   "cell_type": "markdown",
   "metadata": {
    "id": "h5rUHy7HK9lo"
   },
   "source": [
    "### Joint Training Generator"
   ]
  },
  {
   "cell_type": "code",
   "execution_count": 20,
   "metadata": {
    "colab": {
     "base_uri": "https://localhost:8080/",
     "height": 1000
    },
    "executionInfo": {
     "elapsed": 2085,
     "status": "ok",
     "timestamp": 1629666461396,
     "user": {
      "displayName": "V",
      "photoUrl": "",
      "userId": "05510664894866105539"
     },
     "user_tz": -60
    },
    "id": "556ciZOY957X",
    "outputId": "aebf3889-86cb-455b-b879-a96cfb37e75b"
   },
   "outputs": [
    {
     "name": "stdout",
     "output_type": "stream",
     "text": [
      "Model: \"AdversarialNetSupervised\"\n",
      "__________________________________________________________________________________________________\n",
      "Layer (type)                    Output Shape         Param #     Connected to                     \n",
      "==================================================================================================\n",
      "RealDataX (InputLayer)          [(None, 8, 18)]      0                                            \n",
      "__________________________________________________________________________________________________\n",
      "RandomData (InputLayer)         [(None, 4, 1)]       0                                            \n",
      "__________________________________________________________________________________________________\n",
      "model_1 (Functional)            (None, 4, 4)         15108       RealDataX[0][0]                  \n",
      "                                                                 RandomData[0][0]                 \n",
      "__________________________________________________________________________________________________\n",
      "Supervisor (Sequential)         (None, 4, 4)         4868        model_1[0][0]                    \n",
      "__________________________________________________________________________________________________\n",
      "model_2 (Functional)            (None, 4, 1)         15393       RealDataX[0][0]                  \n",
      "                                                                 Supervisor[0][0]                 \n",
      "==================================================================================================\n",
      "Total params: 35,369\n",
      "Trainable params: 35,369\n",
      "Non-trainable params: 0\n",
      "__________________________________________________________________________________________________\n",
      "Model: \"AdversarialNet\"\n",
      "__________________________________________________________________________________________________\n",
      "Layer (type)                    Output Shape         Param #     Connected to                     \n",
      "==================================================================================================\n",
      "RealDataX (InputLayer)          [(None, 8, 18)]      0                                            \n",
      "__________________________________________________________________________________________________\n",
      "RandomData (InputLayer)         [(None, 4, 1)]       0                                            \n",
      "__________________________________________________________________________________________________\n",
      "model_1 (Functional)            (None, 4, 4)         15108       RealDataX[0][0]                  \n",
      "                                                                 RandomData[0][0]                 \n",
      "__________________________________________________________________________________________________\n",
      "model_2 (Functional)            (None, 4, 1)         15393       RealDataX[0][0]                  \n",
      "                                                                 model_1[0][0]                    \n",
      "==================================================================================================\n",
      "Total params: 30,501\n",
      "Trainable params: 30,501\n",
      "Non-trainable params: 0\n",
      "__________________________________________________________________________________________________\n",
      "Model: \"SyntheticData\"\n",
      "__________________________________________________________________________________________________\n",
      "Layer (type)                    Output Shape         Param #     Connected to                     \n",
      "==================================================================================================\n",
      "RealDataX (InputLayer)          [(None, 8, 18)]      0                                            \n",
      "__________________________________________________________________________________________________\n",
      "RandomData (InputLayer)         [(None, 4, 1)]       0                                            \n",
      "__________________________________________________________________________________________________\n",
      "model_1 (Functional)            (None, 4, 4)         15108       RealDataX[0][0]                  \n",
      "                                                                 RandomData[0][0]                 \n",
      "__________________________________________________________________________________________________\n",
      "Supervisor (Sequential)         (None, 4, 4)         4868        model_1[0][0]                    \n",
      "__________________________________________________________________________________________________\n",
      "Recovery (Sequential)           (None, 4, 1)         4769        Supervisor[0][0]                 \n",
      "==================================================================================================\n",
      "Total params: 24,745\n",
      "Trainable params: 24,745\n",
      "Non-trainable params: 0\n",
      "__________________________________________________________________________________________________\n"
     ]
    },
    {
     "data": {
      "image/png": "[encoded data removed]",
      "text/plain": [
       "<IPython.core.display.Image object>"
      ]
     },
     "execution_count": 20,
     "metadata": {},
     "output_type": "execute_result"
    }
   ],
   "source": [
    "#### Joint Training\n",
    "# Generator\n",
    "# Adversarial Architecture - Supervised\n",
    "E_hat = generator([Xin1,Z])\n",
    "if len(E_hat.shape)<3:\n",
    "   E_hat = E_hat[:,:,None] # Added\n",
    "H_hat = supervisor(E_hat)\n",
    "if len(H_hat.shape)<3:\n",
    "   H_hat = H_hat[:,:,None] # Added\n",
    "Y_fake = discriminator([Xin1,H_hat])\n",
    "\n",
    "adversarial_supervised = Model(inputs=[Xin1,Z],\n",
    "                               outputs=Y_fake,\n",
    "                               name='AdversarialNetSupervised')\n",
    "\n",
    "adversarial_supervised.summary()\n",
    "plot_model(adversarial_supervised, show_shapes=True)\n",
    "\n",
    "# Adversarial Architecture in Latent Space\n",
    "Y_fake_e = discriminator([Xin1,E_hat])\n",
    "\n",
    "adversarial_emb = Model(inputs=[Xin1,Z],\n",
    "                    outputs=Y_fake_e,\n",
    "                    name='AdversarialNet')\n",
    "\n",
    "adversarial_emb.summary()\n",
    "plot_model(adversarial_emb, show_shapes=True)\n",
    "\n",
    "\n",
    "# Mean and Variance Loss\n",
    "X_hat = recovery(H_hat)\n",
    "synthetic_data = Model(inputs=[Xin1,Z],\n",
    "                       outputs=X_hat,\n",
    "                       name='SyntheticData')\n",
    "\n",
    "synthetic_data.summary()\n",
    "plot_model(synthetic_data, show_shapes=True)"
   ]
  },
  {
   "cell_type": "markdown",
   "metadata": {
    "id": "kkQACo5cLGhJ"
   },
   "source": [
    "### Joint Training Discriminator"
   ]
  },
  {
   "cell_type": "code",
   "execution_count": 21,
   "metadata": {
    "colab": {
     "base_uri": "https://localhost:8080/",
     "height": 639
    },
    "executionInfo": {
     "elapsed": 545,
     "status": "ok",
     "timestamp": 1629666461939,
     "user": {
      "displayName": "V",
      "photoUrl": "",
      "userId": "05510664894866105539"
     },
     "user_tz": -60
    },
    "id": "H7zSQHnf-Hjc",
    "outputId": "a122e7e2-5f93-4fbf-fe00-365270c3182d"
   },
   "outputs": [
    {
     "name": "stdout",
     "output_type": "stream",
     "text": [
      "Model: \"DiscriminatorReal\"\n",
      "__________________________________________________________________________________________________\n",
      "Layer (type)                    Output Shape         Param #     Connected to                     \n",
      "==================================================================================================\n",
      "RealDataX (InputLayer)          [(None, 8, 18)]      0                                            \n",
      "__________________________________________________________________________________________________\n",
      "RealDataY (InputLayer)          [(None, 4, 1)]       0                                            \n",
      "__________________________________________________________________________________________________\n",
      "model (Functional)              (None, 4, 4)         15108       RealDataX[0][0]                  \n",
      "                                                                 RealDataY[0][0]                  \n",
      "__________________________________________________________________________________________________\n",
      "model_2 (Functional)            (None, 4, 1)         15393       RealDataX[0][0]                  \n",
      "                                                                 model[0][0]                      \n",
      "==================================================================================================\n",
      "Total params: 30,501\n",
      "Trainable params: 30,501\n",
      "Non-trainable params: 0\n",
      "__________________________________________________________________________________________________\n"
     ]
    },
    {
     "data": {
      "image/png": "[encoded data removed]",
      "text/plain": [
       "<IPython.core.display.Image object>"
      ]
     },
     "execution_count": 21,
     "metadata": {},
     "output_type": "execute_result"
    }
   ],
   "source": [
    "#### Joint Training\n",
    "# Discriminator\n",
    "###############\n",
    "# Architecture: Real Data\n",
    "Y_real = discriminator([Xin1,H])\n",
    "discriminator_model = Model(inputs=[Xin1,Xin2],\n",
    "                            outputs=Y_real,\n",
    "                            name='DiscriminatorReal')\n",
    "\n",
    "discriminator_model.summary()\n",
    "plot_model(discriminator_model, show_shapes=True)"
   ]
  },
  {
   "cell_type": "markdown",
   "metadata": {
    "id": "-NzE6RdVF_MP"
   },
   "source": [
    "### Joint Training Loop 30 epoch"
   ]
  },
  {
   "cell_type": "code",
   "execution_count": 22,
   "metadata": {
    "executionInfo": {
     "elapsed": 3,
     "status": "ok",
     "timestamp": 1629666461940,
     "user": {
      "displayName": "V",
      "photoUrl": "",
      "userId": "05510664894866105539"
     },
     "user_tz": -60
    },
    "id": "BkfSvo0moAiX"
   },
   "outputs": [],
   "source": [
    "tf.config.run_functions_eagerly(True)\n",
    "step_g_loss_u = step_g_loss_s = step_g_loss_v = step_e_loss_t0 = step_d_loss = 0\n",
    "l_step_g_loss_u = []\n",
    "l_step_g_loss_s = []\n",
    "l_step_g_loss_v = []\n",
    "l_step_e_loss_t0 = []\n",
    "l_step_d_loss = []\n",
    "discriminator_loss_real=0\n",
    "l_discriminator_loss_real=[]\n",
    "l_discriminator_loss_fake=[]\n",
    "l_discriminator_loss_fake_e=[]\n",
    "mse_test_epoch = []\n",
    "mse_valid_epoch = []\n",
    "fid_test_epoch = []\n",
    "fid_valid_epoch = []"
   ]
  },
  {
   "cell_type": "code",
   "execution_count": null,
   "metadata": {
    "colab": {
     "base_uri": "https://localhost:8080/"
    },
    "id": "-a_sKCHTF_MQ",
    "outputId": "cc2f5542-e97d-4176-a7b4-b45538b28ed2"
   },
   "outputs": [
    {
     "name": "stdout",
     "output_type": "stream",
     "text": [
      "     0 |    100 | d_loss: 1.9960 | g_loss_u: 1.1294 | g_loss_s: 0.0433 | g_loss_v: 0.1573 | e_loss_t0: 0.0499\n",
      "     0 |    200 | d_loss: 2.0625 | g_loss_u: 1.1749 | g_loss_s: 0.0023 | g_loss_v: 0.0205 | e_loss_t0: 0.0341\n",
      "     0 |    300 | d_loss: 1.9425 | g_loss_u: 1.0292 | g_loss_s: 0.0018 | g_loss_v: 0.0198 | e_loss_t0: 0.0229\n",
      "     0 |    400 | d_loss: 1.5153 | g_loss_u: 1.1359 | g_loss_s: 0.0013 | g_loss_v: 0.0324 | e_loss_t0: 0.0107\n",
      "     0 |    500 | d_loss: 1.8923 | g_loss_u: 1.0925 | g_loss_s: 0.0008 | g_loss_v: 0.0494 | e_loss_t0: 0.0202\n",
      "     0 |    600 | d_loss: 2.0052 | g_loss_u: 1.3210 | g_loss_s: 0.0002 | g_loss_v: 0.0729 | e_loss_t0: 0.0178\n",
      "     0 |    700 | d_loss: 1.9014 | g_loss_u: 1.1458 | g_loss_s: 0.0011 | g_loss_v: 0.0800 | e_loss_t0: 0.0191\n",
      "     0 |    800 | d_loss: 1.9170 | g_loss_u: 1.1710 | g_loss_s: 0.0002 | g_loss_v: 0.1071 | e_loss_t0: 0.0030\n",
      "     0 |    900 | d_loss: 1.9054 | g_loss_u: 1.0312 | g_loss_s: 0.0001 | g_loss_v: 0.0440 | e_loss_t0: 0.0029\n",
      "     0 |  1,000 | d_loss: 1.9143 | g_loss_u: 1.0933 | g_loss_s: 0.0010 | g_loss_v: 0.1622 | e_loss_t0: 0.0304\n",
      "     0 |  1,100 | d_loss: 1.9786 | g_loss_u: 1.2007 | g_loss_s: 0.0015 | g_loss_v: 0.1895 | e_loss_t0: 0.0323\n",
      "     0 |  1,200 | d_loss: 1.7586 | g_loss_u: 1.1005 | g_loss_s: 0.0002 | g_loss_v: 0.0632 | e_loss_t0: 0.0107\n",
      "     0 |  1,300 | d_loss: 1.9427 | g_loss_u: 1.1531 | g_loss_s: 0.0015 | g_loss_v: 0.0399 | e_loss_t0: 0.0047\n",
      "     0 |  1,400 | d_loss: 1.8584 | g_loss_u: 1.0703 | g_loss_s: 0.0010 | g_loss_v: 0.0614 | e_loss_t0: 0.0033\n",
      "     0 |  1,500 | d_loss: 1.7274 | g_loss_u: 1.1321 | g_loss_s: 0.0002 | g_loss_v: 0.0154 | e_loss_t0: 0.0146\n",
      "     0 |  1,600 | d_loss: 1.8858 | g_loss_u: 1.1440 | g_loss_s: 0.0001 | g_loss_v: 0.0087 | e_loss_t0: 0.0035\n",
      "     0 |  1,700 | d_loss: 1.5945 | g_loss_u: 1.1049 | g_loss_s: 0.0001 | g_loss_v: 0.0453 | e_loss_t0: 0.0019\n",
      "     0 |  1,800 | d_loss: 1.8152 | g_loss_u: 1.0963 | g_loss_s: 0.0000 | g_loss_v: 0.0099 | e_loss_t0: 0.0015\n",
      "     0 |  1,900 | d_loss: 1.8683 | g_loss_u: 1.1054 | g_loss_s: 0.0000 | g_loss_v: 0.0215 | e_loss_t0: 0.0039\n",
      "     0 |  2,000 | d_loss: 1.8798 | g_loss_u: 1.0658 | g_loss_s: 0.0000 | g_loss_v: 0.0089 | e_loss_t0: 0.0011\n",
      "     0 |  2,100 | d_loss: 1.9237 | g_loss_u: 1.1597 | g_loss_s: 0.0001 | g_loss_v: 0.0197 | e_loss_t0: 0.0022\n",
      "     0 |  2,200 | d_loss: 1.9229 | g_loss_u: 1.1382 | g_loss_s: 0.0000 | g_loss_v: 0.0339 | e_loss_t0: 0.0022\n",
      "     0 |  2,300 | d_loss: 1.9232 | g_loss_u: 1.1306 | g_loss_s: 0.0001 | g_loss_v: 0.0082 | e_loss_t0: 0.0113\n",
      "     0 |  2,400 | d_loss: 1.9027 | g_loss_u: 0.9676 | g_loss_s: 0.0005 | g_loss_v: 0.0301 | e_loss_t0: 0.0058\n",
      "     0 |  2,500 | d_loss: 1.7322 | g_loss_u: 1.1146 | g_loss_s: 0.0001 | g_loss_v: 0.0188 | e_loss_t0: 0.0023\n",
      "     0 |  2,600 | d_loss: 1.9154 | g_loss_u: 1.0959 | g_loss_s: 0.0003 | g_loss_v: 0.0094 | e_loss_t0: 0.0034\n",
      "     0 |  2,700 | d_loss: 1.8147 | g_loss_u: 1.1528 | g_loss_s: 0.0006 | g_loss_v: 0.0121 | e_loss_t0: 0.0027\n",
      "     0 |  2,800 | d_loss: 1.8981 | g_loss_u: 1.1714 | g_loss_s: 0.0003 | g_loss_v: 0.0394 | e_loss_t0: 0.0017\n",
      "     0 |  2,900 | d_loss: 1.8974 | g_loss_u: 1.1321 | g_loss_s: 0.0001 | g_loss_v: 0.0082 | e_loss_t0: 0.0079\n",
      "     0 |  3,000 | d_loss: 1.9199 | g_loss_u: 1.0927 | g_loss_s: 0.0004 | g_loss_v: 0.0581 | e_loss_t0: 0.0034\n",
      "MSE on Test & Validation data:\n",
      "Train MSE: 0.890 Validation MSE: 2.395 Train FID: 0.553 Validation FID: 6.161\n",
      "     1 |    100 | d_loss: 1.9070 | g_loss_u: 1.0902 | g_loss_s: 0.0003 | g_loss_v: 0.0059 | e_loss_t0: 0.0021\n",
      "     1 |    200 | d_loss: 1.9059 | g_loss_u: 1.0986 | g_loss_s: 0.0001 | g_loss_v: 0.0215 | e_loss_t0: 0.0068\n",
      "     1 |    300 | d_loss: 1.8764 | g_loss_u: 1.1233 | g_loss_s: 0.0001 | g_loss_v: 0.0088 | e_loss_t0: 0.0068\n"
     ]
    }
   ],
   "source": [
    "### Training Loop\n",
    "for step in range(train_steps):\n",
    "  # Train generator (twice as often as discriminator)\n",
    "    for bstep in range(len(batch_arrays[0])):\n",
    "        for kk in range(2):\n",
    "            b_start = sum(batch_arrays[0][:bstep])\n",
    "            b_end = b_start + batch_arrays[0][bstep]\n",
    "\n",
    "            x_batch_train = x_train[b_start:b_end]\n",
    "            y_batch_train = y_train[b_start:b_end]\n",
    "\n",
    "            X1_ = tf.convert_to_tensor(x_batch_train, np.float32)\n",
    "            X2_ = tf.convert_to_tensor(y_batch_train, np.float32)\n",
    "            #X1_ = X1_[:,:,None]\n",
    "            Z_ = next(random_series)[:y_batch_train.shape[0],:,:1]\n",
    "\n",
    "            # Train generator\n",
    "            step_g_loss_u, step_g_loss_s, step_g_loss_v = train_generator(X2_, [X1_,X2_], [X1_,Z_])\n",
    "            # Train embedder\n",
    "            step_e_loss_t0 = train_embedder(X2_,[X1_,X2_])\n",
    "\n",
    "            bstep +=1\n",
    "            if bstep>=len(batch_arrays[0]):\n",
    "                break\n",
    "        if bstep>=len(batch_arrays[0]):\n",
    "            break\n",
    "\n",
    "        b_start = sum(batch_arrays[0][:bstep])\n",
    "        b_end = b_start + batch_arrays[0][bstep]\n",
    "\n",
    "        x_batch_train = x_train[b_start:b_end]\n",
    "        y_batch_train = y_train[b_start:b_end]\n",
    "\n",
    "        X1_ = tf.convert_to_tensor(x_batch_train, np.float32)\n",
    "        X2_ = tf.convert_to_tensor(y_batch_train, np.float32)\n",
    "        #X1_ = X1_[:,:,None]\n",
    "        Z_ = next(random_series)[:y_batch_train.shape[0],:,:1]\n",
    "\n",
    "        step_d_loss, discriminator_loss_real, discriminator_loss_fake, discriminator_loss_fake_e = get_discriminator_loss([X1_,X2_], [X1_,Z_])\n",
    "        #if step_d_loss > 0.15:\n",
    "        if step_d_loss > 0.2:\n",
    "            step_d_loss, discriminator_loss_real, discriminator_loss_fake, discriminator_loss_fake_e = train_discriminator([X1_,X2_], [X1_,Z_])\n",
    "\n",
    "        l_step_g_loss_u.append(step_g_loss_u)\n",
    "        l_step_g_loss_s.append(step_g_loss_s)\n",
    "        l_step_g_loss_v.append(step_g_loss_v)\n",
    "        l_step_e_loss_t0.append(step_e_loss_t0)\n",
    "        l_step_d_loss.append(step_d_loss)\n",
    "        l_discriminator_loss_real.append(discriminator_loss_real)\n",
    "        l_discriminator_loss_fake.append(discriminator_loss_fake)\n",
    "        l_discriminator_loss_fake_e.append(discriminator_loss_fake_e)\n",
    "        if bstep % 100 == 0:\n",
    "            print(f'{step:6,.0f} | {bstep:6,.0f} | d_loss: {step_d_loss:6.4f} | g_loss_u: {step_g_loss_u:6.4f} | '\n",
    "                  f'g_loss_s: {step_g_loss_s:6.4f} | g_loss_v: {step_g_loss_v:6.4f} | e_loss_t0: {step_e_loss_t0:6.4f}')\n",
    "\n",
    "        with writer.as_default():\n",
    "            tf.summary.scalar('G Loss S', step_g_loss_s, step=step)\n",
    "            tf.summary.scalar('G Loss U', step_g_loss_u, step=step)\n",
    "            tf.summary.scalar('G Loss V', step_g_loss_v, step=step)\n",
    "            tf.summary.scalar('E Loss T0', step_e_loss_t0, step=step)\n",
    "            tf.summary.scalar('D Loss', step_d_loss, step=step)\n",
    "\n",
    "    # Calculate MSE on train data\n",
    "    zt_data = []\n",
    "    for i in range(int(len(x_train)/batch_size)+1):\n",
    "        Z_ = next(random_series)\n",
    "        zt_data.append(Z_.numpy())\n",
    "    Z = np.concatenate([df for df in zt_data])[:len(x_train),:,:1]\n",
    "    # Calculate predicted values\n",
    "    generated_datatt = synthetic_data([x_train,Z])[:,:,0]\n",
    "    yhattt = (scalers[1].inverse_transform(generated_datatt)\n",
    "                  .reshape(-1, ts_out, n_seq_out))[:,:,0]\n",
    "\n",
    "    y_acttt = scalers[1].inverse_transform(y_train) # unnormalize\n",
    "    mset = mean_squared_error(y_acttt, yhattt)\n",
    "    fidt = calculate_fid(y_acttt, yhattt)\n",
    "\n",
    "    # Calculate MSE on validation data\n",
    "    zt_data = []\n",
    "    for i in range(int(len(x_valid)/batch_size)+1):\n",
    "        Z_ = next(random_series)\n",
    "        zt_data.append(Z_.numpy())\n",
    "    Z = np.concatenate([df for df in zt_data])[:len(x_valid),:,:1]\n",
    "    # Calculate predicted values\n",
    "    generated_datav = synthetic_data([x_valid,Z])[:,:,0]\n",
    "    yhatv = (scalers[1].inverse_transform(generated_datav)\n",
    "                  .reshape(-1, ts_out, n_seq_out))[:,:,0]\n",
    "\n",
    "    y_actv = scalers[1].inverse_transform(y_valid) # unnormalize\n",
    "    \n",
    "    # Print MSE\n",
    "    msev = mean_squared_error(y_actv, yhatv)\n",
    "    fidv = calculate_fid(y_actv, yhatv)\n",
    "\n",
    "    mse_test_epoch.append(mset)\n",
    "    mse_valid_epoch.append(msev)\n",
    "    fid_test_epoch.append(fidt)\n",
    "    fid_valid_epoch.append(fidv)\n",
    "    print(\"MSE on Test & Validation data:\")\n",
    "    print('Train MSE: %.3f' % mset, 'Validation MSE: %.3f' % msev, 'Train FID: %.3f' % fidt, 'Validation FID: %.3f' % fidv)\n",
    "\n",
    "plt.plot(l_step_g_loss_u, label='step_g_loss_u')\n",
    "plt.legend()\n",
    "plt.xlabel(\"Numer of iterations over batch\")\n",
    "plt.ylabel(\"Loss\")\n",
    "plt.show()\n",
    "plt.plot(l_step_g_loss_s, label='step_g_loss_s')\n",
    "plt.legend()\n",
    "plt.xlabel(\"Numer of iterations over batch\")\n",
    "plt.ylabel(\"Loss\")\n",
    "plt.show()\n",
    "plt.plot(l_step_g_loss_v, label='step_g_loss_v')\n",
    "plt.legend()\n",
    "plt.xlabel(\"Numer of iterations over batch\")\n",
    "plt.ylabel(\"Loss\")\n",
    "plt.show()\n",
    "plt.plot(l_step_e_loss_t0, label='step_e_loss_t0')\n",
    "plt.legend()\n",
    "plt.xlabel(\"Numer of iterations over batch\")\n",
    "plt.ylabel(\"Loss\")\n",
    "plt.show()\n",
    "plt.plot(l_step_d_loss, label='step_d_loss')\n",
    "plt.legend()\n",
    "plt.xlabel(\"Numer of iterations over batch\")\n",
    "plt.ylabel(\"Loss\")\n",
    "plt.show()\n",
    "plt.plot(l_discriminator_loss_real, label='l_discriminator_loss_real')\n",
    "plt.legend()\n",
    "plt.xlabel(\"Numer of iterations over batch\")\n",
    "plt.ylabel(\"Loss\")\n",
    "plt.show()\n",
    "plt.plot(l_discriminator_loss_fake, label='l_discriminator_loss_fake')\n",
    "plt.legend()\n",
    "plt.xlabel(\"Numer of iterations over batch\")\n",
    "plt.ylabel(\"Loss\")\n",
    "plt.show()\n",
    "plt.plot(l_discriminator_loss_fake_e, label='l_discriminator_loss_fake_e')\n",
    "plt.legend()\n",
    "plt.xlabel(\"Numer of iterations over batch\")\n",
    "plt.ylabel(\"Loss\")\n",
    "plt.show()"
   ]
  },
  {
   "cell_type": "markdown",
   "metadata": {
    "id": "SCaCr7PNFc1a"
   },
   "source": [
    "### Predict 30 epoch"
   ]
  },
  {
   "cell_type": "code",
   "execution_count": null,
   "metadata": {
    "id": "TSyM23oMFc1g"
   },
   "outputs": [],
   "source": [
    "# Calculate Predictions\n",
    "all_lag, y_act, yhat, y_actt, yhatt, impt_var, mset, msev = prediction(scalers, importance=0)"
   ]
  },
  {
   "cell_type": "code",
   "execution_count": null,
   "metadata": {
    "id": "7vcyL0o4Fc1g"
   },
   "outputs": [],
   "source": [
    "# Plots\n",
    "ydiff = pd.DataFrame(index = all_lag.index, columns=['dif'])\n",
    "ydiff['dif'] = (y_act - yhat)**2\n",
    "ydiff_co = np.sqrt(ydiff.reset_index().groupby('cik').mean('dif'))\n",
    "ydiff_co = ydiff_co.sort_values(by='dif',ascending=False)\n",
    "ydiff_co = ydiff_co.reset_index()\n",
    "\n",
    "# Actual vs Predicted plots\n",
    "f_yr=5 # number of years for comparison\n",
    "step=4 # step in quarters\n",
    "sample_plot(co=companies[0], f_yr=f_yr, step=step)\n",
    "sample_plot(co=companies[100], f_yr=f_yr, step=step)\n",
    "sample_plot(co=ydiff_co.iloc[0,0], f_yr=f_yr, step=step) # worst fit\n",
    "sample_plot(co=ydiff_co.iloc[-1,0], f_yr=f_yr, step=step) # best fit\n",
    "print(ydiff_co.loc[ydiff_co.cik==companies[0],'dif'])\n",
    "print(ydiff_co.loc[ydiff_co.cik==companies[100],'dif'])\n",
    "print(ydiff_co.iloc[0,1])\n",
    "print(ydiff_co.iloc[-1,1])"
   ]
  },
  {
   "cell_type": "code",
   "execution_count": null,
   "metadata": {
    "id": "4pil5I3ZC_5_"
   },
   "outputs": [],
   "source": [
    "pd.DataFrame(mse_test_epoch).to_csv(\"mse_test_mult2.csv\")\n",
    "pd.DataFrame(mse_valid_epoch).to_csv(\"mse_valid_mult2.csv\")\n",
    "pd.DataFrame(fid_test_epoch).to_csv(\"fid_test_mult2.csv\")\n",
    "pd.DataFrame(fid_valid_epoch).to_csv(\"fid_valid_mult2.csv\")"
   ]
  },
  {
   "cell_type": "code",
   "execution_count": null,
   "metadata": {
    "id": "wGENwHnuJo8t"
   },
   "outputs": [],
   "source": [
    "plt.plot(mse_test_epoch, label='Train Loss')\n",
    "plt.plot(mse_valid_epoch, label='Validation Loss')\n",
    "plt.legend()\n",
    "plt.xlabel(\"Epochs\")\n",
    "plt.ylabel(\"Loss\")\n",
    "plt.show()\n",
    "\n",
    "plt.plot(fid_test_epoch, label='Train FID')\n",
    "plt.plot(fid_valid_epoch, label='Validation FID')\n",
    "plt.legend()\n",
    "plt.xlabel(\"Epochs\")\n",
    "plt.ylabel(\"FID\")\n",
    "plt.show()"
   ]
  },
  {
   "cell_type": "code",
   "execution_count": null,
   "metadata": {
    "id": "BaE1VRS3Fc1g"
   },
   "outputs": [],
   "source": [
    "PCA_Analysis(y_act, yhat)"
   ]
  },
  {
   "cell_type": "code",
   "execution_count": null,
   "metadata": {
    "id": "-DHkE0SFC55t"
   },
   "outputs": [],
   "source": [
    "PCA_Analysis(y_actt, yhatt)"
   ]
  },
  {
   "cell_type": "code",
   "execution_count": null,
   "metadata": {
    "id": "2H_y2Ua5CzNL"
   },
   "outputs": [],
   "source": [
    "tSNE_Analysis(y_act, yhat)"
   ]
  },
  {
   "cell_type": "code",
   "execution_count": null,
   "metadata": {
    "id": "9UJ91JKMC1cX"
   },
   "outputs": [],
   "source": [
    "tSNE_Analysis(y_actt, yhatt)"
   ]
  }
 ],
 "metadata": {
  "accelerator": "GPU",
  "colab": {
   "authorship_tag": "ABX9TyMvKwgtz0DDqLy8IvpuH4N7",
   "collapsed_sections": [
    "9ysSxc29vr-P",
    "MineC4jxv-8f",
    "-H8RVM0ZwHSE",
    "uaOkQLQbwNrw",
    "uelfcDg9khpO",
    "63xcAM_3KfUJ",
    "8JWJGtItKw4e",
    "1UM5clNyKzJG",
    "5VXXN8XlK2Ed",
    "XkRfOIqXK3zX",
    "h5rUHy7HK9lo",
    "kkQACo5cLGhJ"
   ],
   "machine_shape": "hm",
   "name": "Copy of Copy of Multivar Order TimeGAN 30epochs Final 3.2.ipynb",
   "provenance": [
    {
     "file_id": "1g2L3zIq-b8R2IiZd-pFgI5ikkbS9kXii",
     "timestamp": 1629587044452
    },
    {
     "file_id": "1DJvkBHhBihw6S58nDnmRg87kPc6u6mnj",
     "timestamp": 1629319721759
    },
    {
     "file_id": "1BvMdgFF4EoRSThWJ3J62ycLB3HZJJAgZ",
     "timestamp": 1629008055571
    },
    {
     "file_id": "1u9k1bKV1T6nf5WYWma0581y2v6-Rw6jr",
     "timestamp": 1628369454704
    },
    {
     "file_id": "1kXm8hZtkHkH-uXaQ2e2V0Z4KPEf66w87",
     "timestamp": 1627657639913
    },
    {
     "file_id": "1X5zERhiD7h0ggSQjwSXpQa-3GjxwZrSa",
     "timestamp": 1627623956665
    },
    {
     "file_id": "1oz-7WQVO7Ut9ETz7cPqFyTuu-SymZseK",
     "timestamp": 1627490703005
    },
    {
     "file_id": "1edauZsH0yr3t4Okvj4XX7DZSai_2-8OX",
     "timestamp": 1627309537626
    }
   ],
   "toc_visible": true
  },
  "kernelspec": {
   "display_name": "Python 3",
   "language": "python",
   "name": "python3"
  },
  "language_info": {
   "codemirror_mode": {
    "name": "ipython",
    "version": 3
   },
   "file_extension": ".py",
   "mimetype": "text/x-python",
   "name": "python",
   "nbconvert_exporter": "python",
   "pygments_lexer": "ipython3",
   "version": "3.8.8"
  }
 },
 "nbformat": 4,
 "nbformat_minor": 1
}
